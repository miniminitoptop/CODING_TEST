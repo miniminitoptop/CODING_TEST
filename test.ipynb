{
 "cells": [
  {
   "cell_type": "code",
   "execution_count": 2,
   "metadata": {},
   "outputs": [
    {
     "name": "stdout",
     "output_type": "stream",
     "text": [
      "26\n",
      "owf;onqwofnwnqkefnkwf\n"
     ]
    }
   ],
   "source": [
    "a = \"weofiowf;onqwofnwnqkefnkwf\"\n",
    "\n",
    "print(len(a))\n",
    "\n",
    "print(a[5:100])"
   ]
  },
  {
   "cell_type": "code",
   "execution_count": null,
   "metadata": {},
   "outputs": [],
   "source": [
    "for i in range(1, 1+T):\n",
    "    if lst1[pos] > lst1[pos-1] and lst1[pos] > lst1[pos-2] and lst1[pos] > lst1[pos+1] and lst1[pos] > lst1[pos+2]:\n",
    "         ans =+ (lst1[pos] - max(lst1[pos-1],lst1[pos-2],lst1[pos+1],lst1[pos+2]))\n",
    "         print(ans)\n",
    "    else:\n",
    "        pos =+1\n",
    "        if pos > (len(lst1)-2):\n",
    "            break\n",
    "        \n",
    "print(f\"#1 {ans}\")"
   ]
  },
  {
   "cell_type": "code",
   "execution_count": 33,
   "metadata": {},
   "outputs": [
    {
     "name": "stdout",
     "output_type": "stream",
     "text": [
      "10000000018\n"
     ]
    }
   ],
   "source": [
    "lst = [10000000019]\n",
    "lst = int(len(lst)/4)\n",
    "\n",
    "b = 1\n",
    "d = 1\n",
    "tmp = 0\n",
    "ans = 0\n",
    "\n",
    "if len(a) > 3:\n",
    "    for i in range(0,c):\n",
    "        \n",
    "        b *= lst.pop() * lst.pop(lst.index(min(lst)))\n",
    "        d *= lst.pop() * lst.pop(lst.index(min(lst)))\n",
    "        \n",
    "        tmp = b\n",
    "        b = d\n",
    "        d = b\n",
    "    ans = b + d - 2\n",
    "\n",
    "elif len(lst) == 2:\n",
    "    ans = lst[0] + lst[1] - 2\n",
    "    \n",
    "elif len(lst) == 1:\n",
    "    ans = lst[0] - 1\n",
    "    \n",
    "    \n",
    "\n",
    "print(ans)\n",
    "\n",
    "\n",
    "\n",
    "    "
   ]
  },
  {
   "cell_type": "code",
   "execution_count": null,
   "metadata": {},
   "outputs": [],
   "source": [
    "a = [1 , 1 , 1]\n"
   ]
  },
  {
   "cell_type": "code",
   "execution_count": null,
   "metadata": {},
   "outputs": [],
   "source": [
    "def fib_dp(n):\n",
    "    if n == 0:\n",
    "        return 0\n",
    "    elif n==1:\n",
    "        return 1\n",
    "    \n",
    "    fib_array = [0,1]\n",
    "    \n",
    "    for i in  range(2,n+1):\n",
    "        num = fib_array[i-1] + fib_array [i-2]\n",
    "        fib_array.append(num)\n",
    "        print(fib_array[i])\n",
    "    \n",
    "    return fib_array[n]\n",
    "\n",
    "#피보나치 수열\n",
    "\n",
    "print(fib_dp(7))"
   ]
  },
  {
   "cell_type": "code",
   "execution_count": null,
   "metadata": {},
   "outputs": [],
   "source": [
    "import math\n",
    "\n",
    "b = 199*199\n",
    "\n"
   ]
  },
  {
   "cell_type": "code",
   "execution_count": null,
   "metadata": {},
   "outputs": [],
   "source": [
    "a= 50\n",
    "\n",
    "b = a"
   ]
  },
  {
   "cell_type": "code",
   "execution_count": null,
   "metadata": {},
   "outputs": [],
   "source": [
    "b = b + 1"
   ]
  },
  {
   "cell_type": "code",
   "execution_count": null,
   "metadata": {},
   "outputs": [],
   "source": [
    "print(b)\n",
    "print(a)"
   ]
  },
  {
   "cell_type": "code",
   "execution_count": null,
   "metadata": {},
   "outputs": [],
   "source": [
    "L = \"hello world\"\n",
    "lst2 = L.split()\n",
    "print(lst2)"
   ]
  },
  {
   "cell_type": "code",
   "execution_count": null,
   "metadata": {},
   "outputs": [],
   "source": [
    "a = [[1,2,3],[1,2,3]]\n",
    "\n",
    "print(a[0])\n",
    "\n",
    "print(*a[0], ' ')\n",
    "\n",
    "\n"
   ]
  },
  {
   "cell_type": "code",
   "execution_count": null,
   "metadata": {},
   "outputs": [],
   "source": [
    "a = list()\n",
    "print(a)\n",
    "a.append('hello ')\n",
    "print(a)\n",
    "a.append('world ')\n",
    "print(a)\n",
    "print(a[0] + a[1])\n"
   ]
  },
  {
   "cell_type": "code",
   "execution_count": null,
   "metadata": {},
   "outputs": [],
   "source": [
    "round(0.689,1)"
   ]
  },
  {
   "cell_type": "code",
   "execution_count": null,
   "metadata": {},
   "outputs": [],
   "source": [
    "a  = \"AAAAABBBBB\"\n",
    "\n",
    "b = list(a)\n",
    "b[0] = 'B'\n",
    "print(b)\n",
    "\n",
    "\n",
    "c = \"\".join(b)\n",
    "print(c)\n",
    "\n",
    "\n"
   ]
  },
  {
   "cell_type": "code",
   "execution_count": null,
   "metadata": {},
   "outputs": [],
   "source": [
    "n,m = map(int,input().split())\n",
    "\n",
    "dix = [ 1 , 0 , -1 , 0 ]\n",
    "diy = [ 0 , 1 , 0 , -1 ]\n",
    "\n",
    "a = [[0 for i in range(m*j+1,m*(j+1)+1)] for j in range(n)]\n",
    "\n",
    "\n",
    "for i in range(n):\n",
    "    for i in  range(m):\n",
    "        \n",
    "    \n",
    "\n",
    "for i in range(n):\n",
    "    c = \" \".join(map(str,a[i]))\n",
    "    b.append(c)\n",
    "\n",
    "\n",
    "for j in range(n):\n",
    "    print(f'{b[j]}')"
   ]
  }
 ],
 "metadata": {
  "kernelspec": {
   "display_name": "Python 3",
   "language": "python",
   "name": "python3"
  },
  "language_info": {
   "codemirror_mode": {
    "name": "ipython",
    "version": 3
   },
   "file_extension": ".py",
   "mimetype": "text/x-python",
   "name": "python",
   "nbconvert_exporter": "python",
   "pygments_lexer": "ipython3",
   "version": "3.11.5"
  }
 },
 "nbformat": 4,
 "nbformat_minor": 2
}
